{
 "cells": [
  {
   "cell_type": "code",
   "execution_count": 14,
   "metadata": {},
   "outputs": [
    {
     "data": {
      "text/html": [
       "<img src=\"img/julioc.jpg\"/>"
      ],
      "text/plain": [
       "<IPython.core.display.Image object>"
      ]
     },
     "execution_count": 14,
     "metadata": {},
     "output_type": "execute_result"
    }
   ],
   "source": [
    "from IPython.display import display, Image\n",
    "Image(url=\"img/julioc.jpg\")"
   ]
  },
  {
   "cell_type": "code",
   "execution_count": 4,
   "metadata": {},
   "outputs": [],
   "source": [
    "import json\n",
    "import requests\n",
    "import hashlib"
   ]
  },
  {
   "cell_type": "code",
   "execution_count": 5,
   "metadata": {},
   "outputs": [],
   "source": [
    "token = ''\n",
    "params = {'token' : token}\n",
    "url = 'https://api.codenation.dev/v1/challenge/dev-ps/generate-data'\n",
    "re = requests.get(url, params=params)\n",
    "codenationa_data = json.loads(re.content)"
   ]
  },
  {
   "cell_type": "code",
   "execution_count": 6,
   "metadata": {},
   "outputs": [],
   "source": [
    "with open('answer.json', 'w', encoding='utf-8') as f:\n",
    "    json.dump(codenationa_data, f, ensure_ascii=False, indent=4)"
   ]
  },
  {
   "cell_type": "code",
   "execution_count": 8,
   "metadata": {},
   "outputs": [],
   "source": [
    "#A python methods to apply Caesar Cipher Technique \n",
    "def encrypt(text, shift):\n",
    "    return ''.join([char if char in ' ,.' else chr((ord(char) + shift - 97) % 26 + 97) for char in text.lower()])\n",
    "\n",
    "def decrypt(text, shift):\n",
    "    return ''.join([char if char in ' ,.' else chr((ord(char) - shift - 97) % 26 + 97) for char in text.lower()])\n",
    "\n",
    "\n",
    "decrypted = decrypt(codenationa_data['cifrado'], codenationa_data['numero_casas'])"
   ]
  },
  {
   "cell_type": "code",
   "execution_count": 9,
   "metadata": {},
   "outputs": [],
   "source": [
    "hashed = hashlib.sha1(decrypted.encode()) "
   ]
  },
  {
   "cell_type": "code",
   "execution_count": 10,
   "metadata": {},
   "outputs": [],
   "source": [
    "codenationa_data['decifrado'] = decrypted\n",
    "codenationa_data['resumo_criptografico'] = hashed.hexdigest()"
   ]
  },
  {
   "cell_type": "code",
   "execution_count": 13,
   "metadata": {},
   "outputs": [
    {
     "data": {
      "text/plain": [
       "{'numero_casas': 9,\n",
       " 'token': 'XXXXXXXXXXXXXXXXXXXXXXXXXXXXXXXXXXXXXXXX',\n",
       " 'cifrado': 'rc rb xtjh cx orpdan xdc vdamna vhbcnarnb, kdc hxd bqxdum wxc wnnm cx orpdan xdc lxmn. hxd bqxdum kn jkun cx anjm rc. bcnen vllxwwnuu',\n",
       " 'decifrado': 'it is okay to figure out murder mysteries, but you should not need to figure out code. you should be able to read it. steve mcconnell',\n",
       " 'resumo_criptografico': '7e258f026b1b130aae3574258e42bff420738efc'}"
      ]
     },
     "execution_count": 13,
     "metadata": {},
     "output_type": "execute_result"
    }
   ],
   "source": [
    "codenationa_data"
   ]
  },
  {
   "cell_type": "code",
   "execution_count": 34,
   "metadata": {},
   "outputs": [],
   "source": [
    "with open('answer.json', 'w', encoding='utf-8') as f:\n",
    "    json.dump(codenationa_data, f, ensure_ascii=False, indent=4)"
   ]
  },
  {
   "cell_type": "code",
   "execution_count": 44,
   "metadata": {},
   "outputs": [
    {
     "data": {
      "text/plain": [
       "200"
      ]
     },
     "execution_count": 44,
     "metadata": {},
     "output_type": "execute_result"
    }
   ],
   "source": [
    "token = ''\n",
    "params = {'token' : token}\n",
    "url2 = 'https://api.codenation.dev/v1/challenge/dev-ps/submit-solution'\n",
    "answer = {'answer': open('answer.json', 'rb')}\n",
    "re2 = requests.post(url2, files=answer, params=params)\n",
    "re2.status_code"
   ]
  },
  {
   "cell_type": "code",
   "execution_count": 45,
   "metadata": {},
   "outputs": [
    {
     "data": {
      "text/plain": [
       "'{\"score\":100}\\n'"
      ]
     },
     "execution_count": 45,
     "metadata": {},
     "output_type": "execute_result"
    }
   ],
   "source": [
    "re2.text"
   ]
  },
  {
   "cell_type": "code",
   "execution_count": 46,
   "metadata": {},
   "outputs": [
    {
     "data": {
      "text/plain": [
       "200"
      ]
     },
     "execution_count": 46,
     "metadata": {},
     "output_type": "execute_result"
    }
   ],
   "source": [
    "re2.status_code"
   ]
  },
  {
   "cell_type": "code",
   "execution_count": 47,
   "metadata": {},
   "outputs": [
    {
     "name": "stdout",
     "output_type": "stream",
     "text": [
      "None\n"
     ]
    }
   ],
   "source": [
    "print(re.raise_for_status())"
   ]
  },
  {
   "cell_type": "code",
   "execution_count": null,
   "metadata": {},
   "outputs": [],
   "source": []
  }
 ],
 "metadata": {
  "kernelspec": {
   "display_name": "Python 3",
   "language": "python",
   "name": "python3"
  },
  "language_info": {
   "codemirror_mode": {
    "name": "ipython",
    "version": 3
   },
   "file_extension": ".py",
   "mimetype": "text/x-python",
   "name": "python",
   "nbconvert_exporter": "python",
   "pygments_lexer": "ipython3",
   "version": "3.7.7"
  }
 },
 "nbformat": 4,
 "nbformat_minor": 4
}
